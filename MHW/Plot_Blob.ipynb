{
 "cells": [
  {
   "cell_type": "code",
   "execution_count": null,
   "metadata": {},
   "outputs": [],
   "source": [
    "# import libraries\n",
    "import numpy as np\n",
    "import pandas as pd\n",
    "#import geopandas as gpd\n",
    "import xarray as xr\n",
    "import matplotlib.pyplot as plt\n",
    "import cartopy.crs as ccrs\n",
    "from cartopy.mpl.ticker import LongitudeFormatter, LatitudeFormatter\n",
    "import cartopy.feature as cfeature\n",
    "import seaborn as sns\n",
    "import warnings\n",
    "warnings.simplefilter('ignore') # filter some warning messages\n"
   ]
  },
  {
   "cell_type": "code",
   "execution_count": null,
   "metadata": {},
   "outputs": [],
   "source": [
    "# plot MHW (2014-2016) for the NEP and QIN regions for report"
   ]
  },
  {
   "cell_type": "code",
   "execution_count": null,
   "metadata": {},
   "outputs": [],
   "source": [
    "lpd = '/Users/sol/Documents/LargeData/QIN/Glorys_Model/'\n",
    "# regional domain\n",
    "ldom = np.array([[43, 48.5],[-129, -123]]) # 230, 237\n",
    "lqin = np.array([[46.25, 47.75],[-125.5, -123.5]]) # 230, 237 # domain for zoom in map\n",
    "# QIN region\n",
    "qbox = np.array([[-124.05,-124.33,-125.07,-124.774,-124.05],[46.53,47.4,47.4,46.53,46.53]]) \n",
    "# calendar.month_name[mon]"
   ]
  },
  {
   "cell_type": "code",
   "execution_count": null,
   "metadata": {},
   "outputs": [],
   "source": [
    "ds = xr.open_dataset('../data/blob_oct2014_forQIN.nc')\n",
    "ds.close()\n",
    "ds.coords['lon'] = np.mod(ds.coords['lon'] + 180,360) - 180\n",
    "ds = ds.sortby(ds.lon)\n",
    "ds"
   ]
  },
  {
   "cell_type": "code",
   "execution_count": null,
   "metadata": {},
   "outputs": [],
   "source": [
    "comap='RdYlBu_r'\n",
    "cd = 'b'\n",
    "dom = np.array([[35, 52],[-150, -120]])\n",
    "cbs=True\n",
    "tit='SSTa (C)'\n",
    "\n",
    "fn = '/Users/sol/Documents/LargeData/Etopo/ETOPO1_Ice_g_gmt4.grd'\n",
    "ds_topo = xr.open_dataset(fn)\n",
    "ds_topo.close()\n",
    "topo = ds_topo.z  #(10801, 21601)\n",
    "topo2=topo.sel(y=slice(dom[0,0],dom[0,1]),x=slice(dom[1,0],dom[1,1]))\n",
    "x = topo2.x  #21601\n",
    "y = topo2.y   #10801\n",
    "X,Y=np.meshgrid(x,y)\n",
    "\n",
    "if cbs==True:\n",
    "    fig=plt.figure(figsize=(4,4),dpi=150)\n",
    "    \n",
    "ax = fig.add_subplot(1, 1, 1, projection=ccrs.PlateCarree())\n",
    "ax.coastlines(resolution='10m',linewidth=1.5,color='black',alpha=0.8,zorder=4)\n",
    "ax.add_feature(cfeature.LAND, color='lightgrey')\n",
    "ax.set_extent([dom[1,0],dom[1,1],dom[0,0],dom[0,1]],crs=ccrs.PlateCarree())\n",
    "if dom[1,1]-dom[1,0]>3:\n",
    "    xt = range(int(np.ceil(dom[1,0])), int(np.floor(dom[1,1]))+1,10)\n",
    "else:\n",
    "    xt = range(int(np.ceil(dom[1,0])), int(np.floor(dom[1,1]))+1,2)\n",
    "if dom[0,1]-dom[0,0]>3:\n",
    "    yt = range(int(np.ceil(dom[0,0])), int(np.floor(dom[0,1]))+1,5)\n",
    "else:\n",
    "    yt = range(int(np.ceil(dom[0,0])), int(np.floor(dom[0,1]))+1,5)\n",
    "\n",
    "ax.set_xticks(xt, crs=ccrs.PlateCarree())\n",
    "ax.set_yticks(yt, crs=ccrs.PlateCarree())\n",
    "plt.xticks(fontsize=8)\n",
    "plt.yticks(fontsize=8)\n",
    "ax.xaxis.set_major_formatter(LongitudeFormatter(zero_direction_label=True))\n",
    "ax.yaxis.set_major_formatter(LatitudeFormatter())\n",
    "plt.grid(True, zorder=0,alpha=0.5)\n",
    "ax.set_aspect(1.5)\n",
    "plt.contour(X,Y,topo2,[-2000,-1000,-500,-100,-50],colors='k',linewidths=0.5, linestyles='solid', zorder=3, alpha=0.5)\n",
    "plt.contourf(ds.lon, ds.lat,ds.anom, cmap=comap, vmin=-3, vmax=3,levels=10)\n",
    "#if cbs==True:\n",
    "#    cb = plt.colorbar(fraction=0.015)\n",
    "#    cb.ax.tick_params(labelsize='x-small')\n",
    "#cb.set_label(label=tit, size='x-small')#, weight='bold')\n",
    "plt.plot(qbox[0,:],qbox[1,:],c='b',lw=1.5,zorder=5, alpha=0.7)\n",
    "#plt.colorbar(fraction=0.03)\n",
    "plt.tight_layout(h_pad=1)\n",
    "plt.show()"
   ]
  },
  {
   "cell_type": "code",
   "execution_count": null,
   "metadata": {},
   "outputs": [],
   "source": [
    "fn = '../data/ETOPO1_QIN.nc'\n",
    "ds_topo = xr.open_dataset(fn)\n",
    "ds_topo.close()\n",
    "topo = ds_topo.z.sel(y=slice(ldom[0,0],ldom[0,1]),x=slice(ldom[1,0],ldom[1,1]))\n",
    "X,Y=np.meshgrid(topo.x,topo.y)\n"
   ]
  },
  {
   "cell_type": "code",
   "execution_count": null,
   "metadata": {},
   "outputs": [],
   "source": [
    "comap='RdYlBu_r'\n",
    "cd = 'b'\n",
    "\n",
    "cbs=False\n",
    "tit='SSTa (C)'\n",
    "\n",
    "if cbs==True:\n",
    "    fig=plt.figure(figsize=(4,4),dpi=150)\n",
    "    dom = ldom\n",
    "else:\n",
    "    fig=plt.figure(figsize=(3,3),dpi=150)\n",
    "    dom = lqin\n",
    "    \n",
    "\n",
    "ax = fig.add_subplot(1, 1, 1, projection=ccrs.PlateCarree())\n",
    "ax.coastlines(resolution='10m',linewidth=1.5,color='black',alpha=0.8,zorder=4)\n",
    "ax.add_feature(cfeature.LAND, color='lightgrey')\n",
    "ax.set_extent([dom[1,0],dom[1,1],dom[0,0],dom[0,1]],crs=ccrs.PlateCarree())\n",
    "if dom[1,1]-dom[1,0]>3:\n",
    "    xt = range(int(np.ceil(dom[1,0])), int(np.floor(dom[1,1]))+1,3)\n",
    "else:\n",
    "    xt = range(int(np.ceil(dom[1,0])), int(np.floor(dom[1,1]))+1,1)\n",
    "if dom[0,1]-dom[0,0]>3:\n",
    "    yt = range(int(np.ceil(dom[0,0])), int(np.floor(dom[0,1]))+1,2)\n",
    "else:\n",
    "    yt = range(int(np.ceil(dom[0,0])), int(np.floor(dom[0,1]))+1,1)\n",
    "\n",
    "ax.set_xticks(xt, crs=ccrs.PlateCarree())\n",
    "ax.set_yticks(yt, crs=ccrs.PlateCarree())\n",
    "plt.xticks(fontsize=8)\n",
    "plt.yticks(fontsize=8)\n",
    "ax.xaxis.set_major_formatter(LongitudeFormatter(zero_direction_label=True))\n",
    "ax.yaxis.set_major_formatter(LatitudeFormatter())\n",
    "plt.grid(True, zorder=0,alpha=0.5)\n",
    "ax.set_aspect(1.5)\n",
    "plt.contour(X,Y,topo,[-3000,-2000,-1000,-500,-200,-150, -100,-50],colors='k',linewidths=0.5, linestyles='solid', zorder=3, alpha=0.5)\n",
    "plt.plot(qbox[0,:],qbox[1,:],c='b',lw=2,zorder=5, alpha=0.7)\n",
    "\n",
    "plt.contourf(ds.lon, ds.lat, ds.anom, cmap=comap, vmin=-3, vmax=3,levels=10)\n",
    "\n",
    "if cbs==False:\n",
    "    cb = plt.colorbar(fraction=0.015, orientation='horizontal', ticks=[*range(-3,3,1)])\n",
    "    cb.ax.tick_params(labelsize='x-small')\n",
    "    cb.set_label(label=tit, size='x-small')#, weight='bold')\n",
    "\n",
    "plt.tight_layout(h_pad=1)\n",
    "plt.show()"
   ]
  },
  {
   "cell_type": "code",
   "execution_count": null,
   "metadata": {},
   "outputs": [],
   "source": []
  }
 ],
 "metadata": {
  "kernelspec": {
   "display_name": "Python 3",
   "language": "python",
   "name": "python3"
  },
  "language_info": {
   "codemirror_mode": {
    "name": "ipython",
    "version": 3
   },
   "file_extension": ".py",
   "mimetype": "text/x-python",
   "name": "python",
   "nbconvert_exporter": "python",
   "pygments_lexer": "ipython3",
   "version": "3.7.6"
  }
 },
 "nbformat": 4,
 "nbformat_minor": 4
}
