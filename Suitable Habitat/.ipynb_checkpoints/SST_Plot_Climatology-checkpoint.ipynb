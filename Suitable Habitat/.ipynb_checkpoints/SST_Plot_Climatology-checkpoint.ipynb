{
 "cells": [
  {
   "cell_type": "markdown",
   "metadata": {},
   "source": [
    "# Winter (DJF) and spring (MAM) Climatology of SST for the Northern California Current\n",
    "## Downscaled model GFDL-ESM4, period 1994-2020"
   ]
  },
  {
   "cell_type": "code",
   "execution_count": null,
   "metadata": {},
   "outputs": [],
   "source": [
    "# import libraries\n",
    "import xarray as xr\n",
    "import numpy as np\n",
    "import matplotlib.pyplot as plt\n",
    "import cartopy.crs as ccrs\n",
    "from cartopy.mpl.ticker import LongitudeFormatter, LatitudeFormatter"
   ]
  },
  {
   "cell_type": "code",
   "execution_count": null,
   "metadata": {},
   "outputs": [],
   "source": [
    "# Definitnions\n",
    "ldp = '/Users/sol/Documents/LargeData/QIN/' # data folder\n",
    "ldom = np.array([[41, 49],[-131, -122]]) # 230, 237"
   ]
  },
  {
   "cell_type": "code",
   "execution_count": null,
   "metadata": {},
   "outputs": [],
   "source": [
    "# open netctf file and select variable and time \n",
    "ds = xr.open_dataset(ldp+'/downscaled_data/ssp585/thetao/surface/GFDL-ESM4_r1i1p1f1_sd+ba_final_thetao_surface_depth_5_subset.nc')\n",
    "ds.close()\n",
    "ds.coords['lon'] = np.mod(ds.coords['lon'] + 180,360) - 180\n",
    "ds = ds['thetao']\n",
    "# select period and calculate seasonal climatology\n",
    "ds1 = ds.sel(lat=slice(ldom[0,0],ldom[0,1]),lon=slice(ldom[1,0],ldom[1,1]), time=slice('1994-01-01','2020-12-31')).groupby('time.season').mean()"
   ]
  },
  {
   "cell_type": "code",
   "execution_count": null,
   "metadata": {},
   "outputs": [],
   "source": [
    "# plot\n",
    "fig=plt.figure(figsize=(6,6),dpi=150)\n",
    "for i in range(2):\n",
    "    ax = fig.add_subplot(2, 2, i+1, projection=ccrs.PlateCarree())\n",
    "    ax.coastlines(resolution='10m',linewidth=1.5,color='black',alpha=0.8,zorder=4)\n",
    "    ax.set_extent([ldom[1,0],ldom[1,1],ldom[0,0],ldom[0,1]],crs=ccrs.PlateCarree())\n",
    "    ax.set_xticks(range(int(ldom[1,0]),int(ldom[1,1])+1,4), crs=ccrs.PlateCarree())\n",
    "    ax.set_yticks(range(int(ldom[0,0]),int(ldom[0,1])+1,2), crs=ccrs.PlateCarree())\n",
    "    ax.xaxis.set_major_formatter(LongitudeFormatter(zero_direction_label=True))\n",
    "    ax.yaxis.set_major_formatter(LatitudeFormatter())\n",
    "    plt.grid(True, zorder=0,alpha=0.5)\n",
    "    plt.contour(X,Y,topo2,[-3000,-2000,-1000,-500,-200, -100],colors='k',linewidths=0.5, linestyles='solid', zorder=3, alpha=0.5)\n",
    "    if i==0:\n",
    "        dsx = ds1[0,:,:]\n",
    "    else:\n",
    "        dsx = ds1[1,:,:]\n",
    "    plt.contourf(dsx.lon, dsx.lat, dsx, cmap='jet', alpha=0.9, vmin=7, vmax=16)\n",
    "    cb = plt.colorbar(fraction=0.02, orientation='horizontal', ticks=range(7,17,2))\n",
    "    plt.title(str(dsx.season.values),fontsize=12)\n",
    "plt.tight_layout(h_pad=1)\n",
    "plt.show()"
   ]
  },
  {
   "cell_type": "code",
   "execution_count": null,
   "metadata": {},
   "outputs": [],
   "source": [
    "# Bathymetry from ETOPO1\n",
    "fn = ldp+'../Etopo/ETOPO1_Ice_g_gmt4.grd'\n",
    "ds_topo = xr.open_dataset(fn)\n",
    "ds_topo.close()\n",
    "topo = ds_topo.z  #(10801, 21601)\n",
    "topo2=topo.sel(y=slice(ldom[0,0],ldom[0,1]),x=slice(ldom[1,0],ldom[1,1]))\n",
    "x = topo2.x  #21601\n",
    "y = topo2.y   #10801\n",
    "X,Y=np.meshgrid(x,y)"
   ]
  },
  {
   "cell_type": "code",
   "execution_count": null,
   "metadata": {},
   "outputs": [],
   "source": []
  }
 ],
 "metadata": {
  "kernelspec": {
   "display_name": "Python 3",
   "language": "python",
   "name": "python3"
  },
  "language_info": {
   "codemirror_mode": {
    "name": "ipython",
    "version": 3
   },
   "file_extension": ".py",
   "mimetype": "text/x-python",
   "name": "python",
   "nbconvert_exporter": "python",
   "pygments_lexer": "ipython3",
   "version": "3.7.6"
  }
 },
 "nbformat": 4,
 "nbformat_minor": 4
}
