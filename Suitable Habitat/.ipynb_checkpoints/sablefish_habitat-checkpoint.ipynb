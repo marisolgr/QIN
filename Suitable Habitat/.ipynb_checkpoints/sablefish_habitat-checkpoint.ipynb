{
 "cells": [
  {
   "cell_type": "code",
   "execution_count": null,
   "metadata": {},
   "outputs": [],
   "source": [
    "# suitable habitat for sable fish, as a case study\n",
    "# first on 'current' habitat using historical data - glorys data\n",
    "# later on 'projections' - dowsncaled data"
   ]
  },
  {
   "cell_type": "code",
   "execution_count": null,
   "metadata": {},
   "outputs": [],
   "source": [
    "import xarray as xr\n",
    "import glob\n",
    "import os\n",
    "import fnmatch\n",
    "import numpy as np\n",
    "import matplotlib.pyplot as plt\n",
    "import warnings\n",
    "warnings.simplefilter('ignore') # filter some warning messages\n",
    "import matplotlib.pyplot as plt\n",
    "import cartopy.crs as ccrs\n",
    "import cartopy\n",
    "from cartopy.mpl.ticker import LongitudeFormatter, LatitudeFormatter"
   ]
  },
  {
   "cell_type": "code",
   "execution_count": null,
   "metadata": {},
   "outputs": [],
   "source": [
    "# Generals\n",
    "ldp = '/Users/sol/Documents/LargeData/' # data folder\n",
    "months=['January','February','March','April','May','June','July','August','September','October','November','December']\n",
    "\n",
    "# reginoal domain\n",
    "ldom = np.array([[42.9, 48.4],[-126, -123]]) \n",
    "# QIN domain\n",
    "qbox = np.array([[-124.05,-124.33,-125.07,-124.774,-124.05],[46.53,47.4,47.4,46.53,46.53]]) \n"
   ]
  },
  {
   "cell_type": "code",
   "execution_count": null,
   "metadata": {},
   "outputs": [],
   "source": [
    "#get bathymetry from ETOPO1\n",
    "fn = ldp+'/Etopo/ETOPO1_Ice_g_gmt4.grd'\n",
    "ds_topo = xr.open_dataset(fn)\n",
    "ds_topo.close()\n",
    "topo = ds_topo.z  #(10801, 21601)\n",
    "topo2=topo.sel(y=slice(ldom[0,0],ldom[0,1]),x=slice(ldom[1,0],ldom[1,1]))\n",
    "x = topo2.x  #21601\n",
    "y = topo2.y   #10801\n",
    "X,Y=np.meshgrid(x,y)"
   ]
  },
  {
   "cell_type": "code",
   "execution_count": null,
   "metadata": {},
   "outputs": [],
   "source": [
    "# QIN mask\n",
    "qin = xr.open_dataset(ldp+'QIN/qin_mask2.nc')\n",
    "qin.close()\n",
    "qin.coords['lon'] = np.mod(qin.coords['lon'] + 180,360) - 180\n",
    "qin = qin.polygon_mask.sel(lat=slice(ldom[0,0],ldom[0,1]),lon=slice(ldom[1,0],ldom[1,1]))\n",
    "qin = qin.where(qin!=0,np.nan)\n",
    "\n",
    "# number of pixels in the mask\n",
    "npx = qin.count(dim=['lat','lon']).values\n",
    "#print(npx)\n",
    "\n",
    "#qin.plot()"
   ]
  },
  {
   "cell_type": "markdown",
   "metadata": {},
   "source": [
    "# Sablefish\n",
    "### Depth: 175-1,450m\n",
    "### Distance from shore: 0-241km\n",
    "### Timing: Dec-March for spawning\n",
    "## Temperature; 4.72-12.85C (2.28-20.56C) for adults\n",
    "#### 3.10-8.3 for spawning (?)\n",
    "## Oxygen (O2): 35.13 (no upper limit: 298.72) mmol/m3"
   ]
  },
  {
   "cell_type": "code",
   "execution_count": null,
   "metadata": {},
   "outputs": [],
   "source": [
    "# sablefish characteristics\n",
    "t1, t2 = 4.72, 12.85\n",
    "o1, o2 = 35.123, 298.72\n",
    "o1 = o1 / 44.661  # conversion to ml/l\n",
    "o2 = o2 / 44.661  \n",
    "d1, d2 = 175, 1450"
   ]
  },
  {
   "cell_type": "code",
   "execution_count": null,
   "metadata": {},
   "outputs": [],
   "source": [
    "# climatology for glorys - month by month, t and o2 limits\n",
    "\n",
    "def clim_habitat(var, depth, mask):\n",
    "    # read file\n",
    "    for fn in os.listdir(ldp2):\n",
    "        if fnmatch.fnmatch(fn, '*'+depth+'*'+var+'*'):\n",
    "            print(fn)\n",
    "            ds_Ts = xr.open_dataset(ldp2+fn)\n",
    "            ds_Ts.close()\n",
    "            ds_Ts.coords['lon'] = np.mod(ds_Ts.coords['lon'] + 180,360) - 180\n",
    "            ds_Ts = ds_Ts.sel(lat=slice(ldom[0,0],ldom[0,1]),lon=slice(ldom[1,0],ldom[1,1]))\n",
    "\n",
    "    # Climatology\n",
    "    clim_Ts = ds_Ts[var].groupby('time.month').mean('time',keep_attrs=True)\n",
    "    clim_Ts\n",
    "    \n",
    "    # for quantifying suitable habitat in QIN region\n",
    "    shab = np.full((12),np.nan)\n",
    "    npx = qin.count(dim=['lat','lon']).values\n",
    "\n",
    "    fig=plt.figure(figsize=(9,10),dpi=150)\n",
    "    for i in range(12):\n",
    "        ax = fig.add_subplot(3, 4, i+1, projection=ccrs.PlateCarree())\n",
    "        ax.coastlines(resolution='10m',linewidth=1.5,color='black',alpha=0.8,zorder=4)\n",
    "        ax.set_extent([ldom[1,0],ldom[1,1],ldom[0,0],ldom[0,1]],crs=ccrs.PlateCarree())\n",
    "        ax.set_xticks([*range(-126,-122,3)], crs=ccrs.PlateCarree())\n",
    "        ax.set_yticks([*range(43,49,3)], crs=ccrs.PlateCarree())\n",
    "        ax.xaxis.set_major_formatter(LongitudeFormatter(zero_direction_label=True))\n",
    "        ax.yaxis.set_major_formatter(LatitudeFormatter())\n",
    "        plt.grid(True, zorder=0,alpha=0.5)\n",
    "        #ax.set_aspect(1.5)\n",
    "        plt.contour(X,Y,topo2,[-2000,-1000,-500,-200,-150, -100,-75, -50,-25],colors='k',linewidths=0.5, linestyles='solid', zorder=3, alpha=0.5)\n",
    "        plt.contour(X,Y,topo2,[ -d2, -d1],colors='b',linewidths=1, linestyles='solid', zorder=3, alpha=0.8)\n",
    "        plt.plot(qbox[0,:],qbox[1,:],c='k',lw=2,zorder=5, alpha=0.7)\n",
    "\n",
    "        tmp = clim_Ts[i,:,:]\n",
    "        if var == 'thetao':\n",
    "            tmp = tmp.where((tmp>=t1)&(tmp<=t2))\n",
    "            plt.contourf(clim_Ts.lon, clim_Ts.lat, tmp, cmap='YlOrRd') # ,vmin=np.floor(t1), vmax=np.ceil(t2))\n",
    "        else:\n",
    "            tmp = tmp.where((tmp>=o1))\n",
    "            plt.contourf(clim_Ts.lon, clim_Ts.lat, tmp, cmap='YlOrRd') # ,vmin=np.floor(o1), vmax=8)\n",
    "        if depth == 'surface':\n",
    "            if var=='thetao':\n",
    "                plt.colorbar(fraction=0.02, orientation='horizontal', ticks=[*range(int(np.floor(tmp.min())),int(np.ceil(tmp.max()))+1,1)]) \n",
    "            else:\n",
    "                plt.colorbar(fraction=0.02, orientation='horizontal', ticks=[*np.arange(int(np.floor(tmp.min())),int(np.ceil(tmp.max()))+0.5,0.5)]) \n",
    "        else:\n",
    "            plt.colorbar(fraction=0.02, orientation='horizontal', ticks=[*range(int(np.floor(tmp.min())),int(np.ceil(tmp.max()))+1,2)])    \n",
    "        # for quantifying suitable habitat\n",
    "        tmp = tmp*qin\n",
    "        shab[i] = np.round(tmp.count(dim=['lat','lon']).values*100/npx,1)\n",
    "\n",
    "\n",
    "        plt.title(months[i])\n",
    "\n",
    "    plt.tight_layout(h_pad=1)\n",
    "\n",
    "    fig.savefig('../figures/suitable_habitat/Glorys_climatology_'+var+'_'+depth+'.png')\n",
    "    plt.show()\n",
    "    \n",
    "    fig=plt.figure(figsize=(5,3),dpi=150)\n",
    "    plt.plot(range(1,13),shab,'+-')\n",
    "    plt.grid(True, alpha=0.3)\n",
    "    plt.xticks(range(1,13),months, rotation=60)\n",
    "    plt.ylabel('% Suitable Habitat')\n",
    "    plt.title('QIN region: '+var+' '+depth)\n",
    "    plt.tight_layout()\n",
    "    fig.savefig('../figures/suitable_habitat/Glorys_climatology_suitablehabitat_'+var+'_'+depth+'.png')\n",
    "    plt.show()"
   ]
  },
  {
   "cell_type": "code",
   "execution_count": null,
   "metadata": {
    "scrolled": true
   },
   "outputs": [],
   "source": [
    "ldp2 = ldp+'QIN/Glorys_Model/'\n",
    "for v in ['thetao','o2']:\n",
    "    for de in ['surface','bottom']:\n",
    "        clim_habitat(v, de, qin)\n"
   ]
  }
 ],
 "metadata": {
  "kernelspec": {
   "display_name": "Python 3",
   "language": "python",
   "name": "python3"
  },
  "language_info": {
   "codemirror_mode": {
    "name": "ipython",
    "version": 3
   },
   "file_extension": ".py",
   "mimetype": "text/x-python",
   "name": "python",
   "nbconvert_exporter": "python",
   "pygments_lexer": "ipython3",
   "version": "3.7.6"
  }
 },
 "nbformat": 4,
 "nbformat_minor": 4
}
