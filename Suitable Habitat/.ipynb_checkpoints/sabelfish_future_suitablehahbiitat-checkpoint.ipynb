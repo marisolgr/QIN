{
 "cells": [
  {
   "cell_type": "code",
   "execution_count": null,
   "metadata": {},
   "outputs": [],
   "source": [
    "# suitable habitat for sable fish, as a case study\n",
    "# first on 'current' habitat using historical data - glorys data\n",
    "# later on 'projections' - dowsncaled data"
   ]
  },
  {
   "cell_type": "code",
   "execution_count": null,
   "metadata": {},
   "outputs": [],
   "source": [
    "import xarray as xr\n",
    "import numpy as np\n",
    "import matplotlib.pyplot as plt\n",
    "import warnings\n",
    "warnings.simplefilter('ignore') # filter some warning messages\n",
    "import matplotlib.pyplot as plt\n",
    "import cartopy.crs as ccrs\n",
    "import cartopy\n",
    "from cartopy.mpl.ticker import LongitudeFormatter, LatitudeFormatter\n",
    "import seaborn as sns\n",
    "import glob\n",
    "import os\n",
    "import fnmatch"
   ]
  },
  {
   "cell_type": "code",
   "execution_count": null,
   "metadata": {},
   "outputs": [],
   "source": [
    "# Generals\n",
    "ldp = '/Users/sol/Documents/LargeData/' # data folder\n",
    "months=['January','February','March','April','May','June','July','August','September','October','November','December']\n",
    "\n",
    "# reginoal domain\n",
    "ldom = np.array([[42.9, 48.4],[-126, -123]]) \n",
    "# QIN domain\n",
    "qbox = np.array([[-124.05,-124.33,-125.07,-124.774,-124.05],[46.53,47.4,47.4,46.53,46.53]]) \n"
   ]
  },
  {
   "cell_type": "code",
   "execution_count": null,
   "metadata": {},
   "outputs": [],
   "source": [
    "#get bathymetry from ETOPO1\n",
    "fn = ldp+'/Etopo/ETOPO1_Ice_g_gmt4.grd'\n",
    "ds_topo = xr.open_dataset(fn)\n",
    "ds_topo.close()\n",
    "topo = ds_topo.z  #(10801, 21601)\n",
    "topo2=topo.sel(y=slice(ldom[0,0],ldom[0,1]),x=slice(ldom[1,0],ldom[1,1]))\n",
    "x = topo2.x  #21601\n",
    "y = topo2.y   #10801\n",
    "X,Y=np.meshgrid(x,y)"
   ]
  },
  {
   "cell_type": "code",
   "execution_count": null,
   "metadata": {},
   "outputs": [],
   "source": [
    "# QIN mask\n",
    "qin = xr.open_dataset(ldp+'QIN/qin_mask2.nc')\n",
    "qin.close()\n",
    "qin.coords['lon'] = np.mod(qin.coords['lon'] + 180,360) - 180\n",
    "qin = qin.polygon_mask.sel(lat=slice(ldom[0,0],ldom[0,1]),lon=slice(ldom[1,0],ldom[1,1]))\n",
    "qin = qin.where(qin!=0,np.nan)\n",
    "\n",
    "# number of pixels in the mask\n",
    "npx = qin.count(dim=['lat','lon']).values\n",
    "#print(npx)\n",
    "\n",
    "#qin.plot()"
   ]
  },
  {
   "cell_type": "markdown",
   "metadata": {},
   "source": [
    "# Sablefish\n",
    "### Depth: 175-1,450m\n",
    "### Distance from shore: 0-241km\n",
    "### Timing: Dec-March for spawning\n",
    "## Temperature; 4.72-12.85C (2.28-20.56C) for adults\n",
    "#### 3.10-8.3 for spawning (?)\n",
    "## Oxygen (O2): 35.13-298.72 mmol/m3"
   ]
  },
  {
   "cell_type": "code",
   "execution_count": null,
   "metadata": {},
   "outputs": [],
   "source": [
    "# sablefish characteristics\n",
    "t1, t2 = 4.72, 12.85\n",
    "o1, o2 = 35.123, 298.72\n",
    "o1 = o1 / 44.661  # conversion to ml/l\n",
    "o2 = o2 / 44.661  \n",
    "d1, d2 = 175, 1450\n",
    "o2 = 10 # large limit to simulate no limit"
   ]
  },
  {
   "cell_type": "code",
   "execution_count": null,
   "metadata": {},
   "outputs": [],
   "source": [
    "def suit_hab_ind(fn, var, depth, th1, th2, fish):\n",
    "    \n",
    "    ds_Ts = xr.open_dataset(fn)\n",
    "    ds_Ts.close()\n",
    "    ds_Ts.coords['lon'] = np.mod(ds_Ts.coords['lon'] + 180,360) - 180\n",
    "    ds_Ts = ds_Ts[var].sel(lat=slice(ldom[0,0],ldom[0,1]),lon=slice(ldom[1,0],ldom[1,1]))\n",
    "    ds_Ts = ds_Ts*qin\n",
    "    if var=='thetao':\n",
    "        ds_Ts = ds_Ts.where((ds_Ts>=th1)&(ds_Ts<=th2), np.nan)\n",
    "    else:\n",
    "        ds_Ts = ds_Ts.where((ds_Ts>=o1), np.nan)\n",
    "\n",
    "    Sh_Ts = np.round(ds_Ts.count(dim=['lat','lon']).values*100/npx,1)\n",
    "    yrs = ds_Ts.time.dt.year.values\n",
    "    # smooth by decade\n",
    "    yrsav = [*range(1990,2100,10)]\n",
    "    Sh_Ts_dec = np.full((len(yrsav)-1),np.nan)\n",
    "    for i in range(len(yrsav)-1):\n",
    "        a=(yrs>=yrsav[i])&(yrs<=yrsav[i+1])\n",
    "        Sh_Ts_dec[i] = np.nanmean(Sh_Ts[a])\n",
    "\n",
    "    plt.figure(figsize=(8,4))\n",
    "    plt.plot(ds_Ts.time, Sh_Ts, zorder=2)\n",
    "    plt.grid(True, alpha=0.3, zorder=1)\n",
    "    plt.ylabel('% of suitable habitat')\n",
    "    plt.title('QIN '+fish+', '+var+' - '+depth)\n",
    "    plt.show()\n",
    "    \n",
    "    plt.figure(figsize=(8,4))\n",
    "    plt.plot(yrsav[1:],Sh_Ts_dec,'r.-', zorder=2)\n",
    "    plt.grid(True, alpha=0.3, zorder=1)\n",
    "    plt.ylabel('% of suitable habitat')\n",
    "    plt.title('QIN '+fish+', '+var+' - '+depth)\n",
    "    plt.show()\n",
    "\n",
    "    Sh_Ts = Sh_Ts.reshape((int(len(Sh_Ts)/12)), 12)\n",
    "    plt.figure(figsize=(5,8))\n",
    "    ax=sns.heatmap(Sh_Ts, xticklabels=months, yticklabels=np.unique(ds_Ts.time.dt.year.values), linewidth=0, alpha=0.8)\n",
    "    ax.invert_yaxis()\n",
    "    plt.title('QIN '+fish+', '+var+' - '+depth)\n",
    "    plt.show()\n",
    "    \n",
    "    # # smooth by decade\n",
    "    yrs = np.unique(ds_Ts.time.dt.year.values)\n",
    "    Sh_Ts_dec_hv = np.full((len(yrsav)-1,12),np.nan)\n",
    "    for i in range(len(yrsav)-1):\n",
    "        a=(yrs>=yrsav[i])&(yrs<=yrsav[i+1])\n",
    "        for j in range(12):\n",
    "            tmp = Sh_Ts[:,j]\n",
    "            Sh_Ts_dec_hv[i,j] = np.nanmean(tmp[a])\n",
    "    \n",
    "    plt.figure(figsize=(5,8))\n",
    "    ax=sns.heatmap(Sh_Ts_dec_hv, xticklabels=months, yticklabels=yrsav[1:], linewidth=0, alpha=0.9)\n",
    "    ax.invert_yaxis()\n",
    "    plt.title('QIN '+fish+', '+var+' - '+depth)\n",
    "    plt.show()\n",
    "    "
   ]
  },
  {
   "cell_type": "code",
   "execution_count": null,
   "metadata": {
    "scrolled": false
   },
   "outputs": [],
   "source": [
    "#fn = ldp+'QIN/downscaled_data/bottomT/GFDL-ESM4_r1i1p1f1_sd+ba_final_thetao_bottom_depth_None_0.nc'\n",
    "fn = ldp+'QIN/downscaled_data/surfaceT/ACCESS-ESM1-5_r1i1p1f1_sd+ba_final_thetao_surface_depth_5_0 (4).nc'\n",
    "suit_hab_ind(fn, 'thetao', 'surface', t1, t2, 'Sablefish')"
   ]
  },
  {
   "cell_type": "code",
   "execution_count": null,
   "metadata": {},
   "outputs": [],
   "source": [
    "def suit_hab_ens(dr, var, depth, th1, th2, qin, fish):\n",
    "    \n",
    "    fns = glob.glob(dr+'/*.nc')\n",
    "    yrsav = [*range(1990,2100,10)]\n",
    "    Sh_Ts_dec = np.full((len(yrsav)-1,len(fns)),np.nan) # decades and num of models\n",
    "    Sh_Ts_dec_hv_all = np.full((len(yrsav)-1,12,len(fns)),np.nan)\n",
    "    Sh_Ts_dec_hv = np.full((len(yrsav)-1,12),np.nan)\n",
    "    Sh_Ts_dec_hvs = np.full((len(yrsav)-1,12),np.nan)\n",
    "    \n",
    "    for modn,fn in enumerate(fns):\n",
    "        print(fn)\n",
    "        ds_Ts = xr.open_dataset(fn)\n",
    "        ds_Ts.close()\n",
    "        ds_Ts.coords['lon'] = np.mod(ds_Ts.coords['lon'] + 180,360) - 180\n",
    "        ds_Ts = ds_Ts[var].sel(lat=slice(ldom[0,0],ldom[0,1]),lon=slice(ldom[1,0],ldom[1,1]))\n",
    "        ds_Ts = ds_Ts*qin\n",
    "        ds_Ts = ds_Ts.where((ds_Ts>=th1)&(ds_Ts<=th2), np.nan)\n",
    "\n",
    "        Sh_Ts = np.round(ds_Ts.count(dim=['lat','lon']).values*100/npx,1)\n",
    "        yrs = ds_Ts.time.dt.year.values\n",
    "        # smooth by decade\n",
    "        for i in range(len(yrsav)-1):\n",
    "            a=(yrs>=yrsav[i])&(yrs<=yrsav[i+1])\n",
    "            Sh_Ts_dec[i,modn] = np.nanmean(Sh_Ts[a])\n",
    "\n",
    "        Sh_Ts = Sh_Ts.reshape((int(len(Sh_Ts)/12)), 12)\n",
    "\n",
    "        # # smooth by decade\n",
    "        yrs = np.unique(ds_Ts.time.dt.year.values)\n",
    "        for i in range(len(yrsav)-1):\n",
    "            a=(yrs>=yrsav[i])&(yrs<=yrsav[i+1])\n",
    "            for j in range(12):\n",
    "                tmp = Sh_Ts[:,j]\n",
    "                Sh_Ts_dec_hv_all[i,j,modn] = np.nanmean(tmp[a])\n",
    "    \n",
    "    plt.figure(figsize=(8,4))\n",
    "    plt.plot(yrsav[1:],Sh_Ts_dec,'.-', zorder=2)\n",
    "    plt.grid(True, alpha=0.3, zorder=1)\n",
    "    plt.ylabel('% of suitable habitat')\n",
    "    plt.title('QIN '+fish+', '+var+' - '+depth)\n",
    "    plt.show()\n",
    "\n",
    "    for i in range(len(yrsav)-1):\n",
    "        for j in range(12):\n",
    "            Sh_Ts_dec_hv[i,j]=np.nanmedian(Sh_Ts_dec_hv_all[i,j,:])\n",
    "            Sh_Ts_dec_hvs[i,j] = np.nanstd(Sh_Ts_dec_hv_all[i,j,:])\n",
    "    \n",
    "    plt.figure(figsize=(5,8))\n",
    "    ax=sns.heatmap(Sh_Ts_dec_hv, xticklabels=months, yticklabels=yrsav[1:], linewidths=0, alpha=0.9)\n",
    "    X, Y = np.meshgrid(np.arange(0.5,12),np.arange(0.5,len(yrsav[1:])))\n",
    "    plt.scatter(X, Y, s=Sh_Ts_dec_hvs,c='w',marker='o')\n",
    "    ax.invert_yaxis()\n",
    "    plt.title('QIN '+fish+', '+var+' - '+depth)\n",
    "    plt.show()"
   ]
  },
  {
   "cell_type": "code",
   "execution_count": null,
   "metadata": {},
   "outputs": [],
   "source": [
    "fn = ldp+'QIN/downscaled_data/surfaceT/'\n",
    "suit_hab_ens(fn, 'thetao', 'surface', t1, t2, qin, 'Sablefish')\n"
   ]
  },
  {
   "cell_type": "code",
   "execution_count": null,
   "metadata": {},
   "outputs": [],
   "source": [
    "#fn = ldp+'QIN/downscaled_data/bottomO2/IPSL-CM6A-LR_r1i1p1f1_sd+ba_final_o2_bottom_depth_None_0.nc'\n",
    "fn = ldp+'QIN/downscaled_data/bottomO2/ACCESS-ESM1-5_r1i1p1f1_sd+ba_final_o2_bottom_depth_None_0.nc'\n",
    "suit_hab_ind(fn, 'o2', 'Bottom', o1, o2, 'Sablefish')"
   ]
  },
  {
   "cell_type": "code",
   "execution_count": null,
   "metadata": {},
   "outputs": [],
   "source": [
    "#fn = ldp+'QIN/downscaled_data/surfaceO2/IPSL-CM6A-LR_r1i1p1f1_sd+ba_final_o2_surface_depth_5_0.nc'\n",
    "fn = ldp+'QIN/downscaled_data/bottomT/ACCESS-ESM1-5_r1i1p1f1_sd+ba_final_thetao_bottom_depth_None_0.nc'\n",
    "suit_hab_ind(fn, 'thetao', 'Surface', t1, t2, 'Sablefish')\n",
    "\n"
   ]
  },
  {
   "cell_type": "code",
   "execution_count": null,
   "metadata": {},
   "outputs": [],
   "source": [
    "fn = ldp+'QIN/downscaled_data/bottomT/'\n",
    "suit_hab_ens(fn, 'thetao', 'bottom', t1, t2, qin, 'Sablefish')\n"
   ]
  },
  {
   "cell_type": "code",
   "execution_count": null,
   "metadata": {},
   "outputs": [],
   "source": [
    "fn = ldp+'QIN/downscaled_data/bottomO2/'\n",
    "suit_hab_ens(fn, 'o2', 'bottom', o1, o2, qin, 'Sablefish')\n"
   ]
  },
  {
   "cell_type": "code",
   "execution_count": null,
   "metadata": {},
   "outputs": [],
   "source": []
  }
 ],
 "metadata": {
  "kernelspec": {
   "display_name": "Python 3",
   "language": "python",
   "name": "python3"
  },
  "language_info": {
   "codemirror_mode": {
    "name": "ipython",
    "version": 3
   },
   "file_extension": ".py",
   "mimetype": "text/x-python",
   "name": "python",
   "nbconvert_exporter": "python",
   "pygments_lexer": "ipython3",
   "version": "3.7.6"
  }
 },
 "nbformat": 4,
 "nbformat_minor": 4
}
